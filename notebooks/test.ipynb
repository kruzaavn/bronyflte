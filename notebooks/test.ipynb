{
 "cells": [
  {
   "cell_type": "code",
   "execution_count": 1,
   "metadata": {
    "collapsed": true
   },
   "outputs": [],
   "source": [
    "import luadata as lua\n",
    "import zipfile\n",
    "import bronyflte"
   ]
  },
  {
   "cell_type": "code",
   "execution_count": 2,
   "outputs": [],
   "source": [
    "q = bronyflte.Mission()"
   ],
   "metadata": {
    "collapsed": false,
    "pycharm": {
     "name": "#%%\n"
    }
   }
  },
  {
   "cell_type": "code",
   "execution_count": 3,
   "outputs": [],
   "source": [
    "q.load('./liberation_nextturn.miz')"
   ],
   "metadata": {
    "collapsed": false,
    "pycharm": {
     "name": "#%%\n"
    }
   }
  },
  {
   "cell_type": "code",
   "execution_count": 4,
   "outputs": [
    {
     "data": {
      "text/plain": "liberation_nextturn: 02/01/25 15:00:00"
     },
     "execution_count": 4,
     "metadata": {},
     "output_type": "execute_result"
    }
   ],
   "source": [
    "q"
   ],
   "metadata": {
    "collapsed": false,
    "pycharm": {
     "name": "#%%\n"
    }
   }
  },
  {
   "cell_type": "code",
   "execution_count": 5,
   "outputs": [
    {
     "data": {
      "text/plain": "'liberation_nextturn'"
     },
     "execution_count": 5,
     "metadata": {},
     "output_type": "execute_result"
    }
   ],
   "source": [
    "q.name"
   ],
   "metadata": {
    "collapsed": false,
    "pycharm": {
     "name": "#%%\n"
    }
   }
  },
  {
   "cell_type": "code",
   "execution_count": 6,
   "outputs": [
    {
     "data": {
      "text/plain": "'Caucasus'"
     },
     "execution_count": 6,
     "metadata": {},
     "output_type": "execute_result"
    }
   ],
   "source": [
    "\n",
    "q.theater"
   ],
   "metadata": {
    "collapsed": false,
    "pycharm": {
     "name": "#%%\n"
    }
   }
  },
  {
   "cell_type": "code",
   "execution_count": 7,
   "outputs": [
    {
     "data": {
      "text/plain": "[KC-135: tanker|2|1|0|KC-135,\n KC130: tanker|2|2|0|KC130,\n E-3A: awacs|2|3|0|,\n F-16C_50: SAMURAI|2|1|29|F-16C_50|,\n A-10C_2: DRAGON|2|2|29|A-10C_2|,\n AV8BNA: Playboy 1|2|4|1005|AV8BNA|,\n AV8BNA: Playboy 2|2|5|1005|AV8BNA|,\n F-14A-135-GR: SNAKE-1|2|6|1004|F-14A-135-GR|,\n F-14B: SNAKE-2|2|7|1004|F-14B|,\n F-14B: SNAKE-3|2|8|1004|F-14B|,\n FA-18C_hornet: CHIPPY-1|2|9|1004|FA-18C_hornet|,\n FA-18C_hornet: CHIPPY-2|2|10|1004|FA-18C_hornet|,\n FA-18C_hornet: MTIGHTY SHRIKES-1|2|11|1004|FA-18C_hornet|,\n FA-18C_hornet: BONES-1|2|12|1004|FA-18C_hornet|,\n FA-18C_hornet: BONES-2|2|13|1004|FA-18C_hornet|,\n FA-18C_hornet: Knight|2|14|1004|FA-18C_hornet|,\n F-16C_50: SAMURAI-1|2|15|29|F-16C_50|,\n MQ-9 Reaper: JTAC2224,\n MQ-9 Reaper: JTAC100625,\n Ka-50: Gigolo|2|3|22|Ka-50|]"
     },
     "execution_count": 7,
     "metadata": {},
     "output_type": "execute_result"
    }
   ],
   "source": [
    "a = q.flights\n",
    "a"
   ],
   "metadata": {
    "collapsed": false,
    "pycharm": {
     "name": "#%%\n"
    }
   }
  },
  {
   "cell_type": "code",
   "execution_count": 12,
   "outputs": [
    {
     "data": {
      "text/plain": "duration: 0:23:43"
     },
     "execution_count": 12,
     "metadata": {},
     "output_type": "execute_result"
    }
   ],
   "source": [
    "a[13].flight_plan"
   ],
   "metadata": {
    "collapsed": false,
    "pycharm": {
     "name": "#%%\n"
    }
   }
  },
  {
   "cell_type": "code",
   "execution_count": 7,
   "outputs": [],
   "source": [
    "z = zipfile.ZipFile('liberation_nextturn.miz')\n",
    "\n",
    "with z.open('mission') as file:\n",
    "    mission = lua.unserialize(file.read().decode('utf-8'), encoding='utf-8')\n"
   ],
   "metadata": {
    "collapsed": false,
    "pycharm": {
     "name": "#%%\n"
    }
   }
  },
  {
   "cell_type": "code",
   "execution_count": 8,
   "outputs": [
    {
     "data": {
      "text/plain": "dict_keys(['trig', 'requiredModules', 'date', 'result', 'groundControl', 'maxDictId', 'pictureFileNameN', 'goals', 'weather', 'theatre', 'triggers', 'map', 'coalitions', 'descriptionText', 'pictureFileNameR', 'descriptionBlueTask', 'descriptionRedTask', 'pictureFileNameB', 'coalition', 'sortie', 'version', 'trigrules', 'currentKey', 'start_time', 'forcedOptions', 'failures'])"
     },
     "execution_count": 8,
     "metadata": {},
     "output_type": "execute_result"
    }
   ],
   "source": [
    "mission.keys()\n"
   ],
   "metadata": {
    "collapsed": false,
    "pycharm": {
     "name": "#%%\n"
    }
   }
  },
  {
   "cell_type": "code",
   "execution_count": 19,
   "outputs": [
    {
     "data": {
      "text/plain": "{'hiddenOnPlanner': False,\n 'tasks': [],\n 'radioSet': True,\n 'task': 'Refueling',\n 'uncontrolled': False,\n 'hiddenOnMFD': False,\n 'taskSelected': True,\n 'route': {'points': [{'alt': 4572,\n    'action': 'Turning Point',\n    'alt_type': 'BARO',\n    'speed': 213.88888888889,\n    'task': {'id': 'ComboTask',\n     'params': {'tasks': [{'number': 1,\n        'auto': True,\n        'id': 'Tanker',\n        'enabled': True,\n        'params': []},\n       {'number': 2,\n        'auto': False,\n        'id': 'WrappedAction',\n        'enabled': True,\n        'params': {'action': {'id': 'ActivateBeacon',\n          'params': {'type': 4,\n           'unitId': 266,\n           'modeChannel': 'Y',\n           'channel': 1,\n           'system': 4,\n           'callsign': 'TEX',\n           'bearing': True,\n           'frequency': 1088000000}}}},\n       {'number': 3,\n        'auto': False,\n        'id': 'WrappedAction',\n        'enabled': True,\n        'params': {'action': {'id': 'SetInvisible',\n          'params': {'value': True}}}},\n       {'number': 4,\n        'auto': False,\n        'id': 'WrappedAction',\n        'enabled': True,\n        'params': {'action': {'id': 'SetImmortal',\n          'params': {'value': True}}}}]}},\n    'type': 'Turning Point',\n    'ETA': 0,\n    'ETA_locked': True,\n    'y': 781483.4716902,\n    'x': -369301.92779148,\n    'name': '',\n    'formation_template': '',\n    'speed_locked': True},\n   {'alt': 4572,\n    'action': 'Turning Point',\n    'alt_type': 'BARO',\n    'speed': 213.88888888889,\n    'task': {'id': 'ComboTask',\n     'params': {'tasks': [{'number': 1,\n        'auto': False,\n        'id': 'WrappedAction',\n        'enabled': True,\n        'params': {'action': {'id': 'SetFrequency',\n          'params': {'frequency': 228000000,\n           'modulation': 0,\n           'power': 10}}}}]}},\n    'type': 'Turning Point',\n    'ETA': 806.29269974804,\n    'ETA_locked': False,\n    'y': 781087.64583905,\n    'x': -360197.93321491,\n    'name': '',\n    'formation_template': '',\n    'speed_locked': True},\n   {'alt': 4572,\n    'action': 'Turning Point',\n    'alt_type': 'BARO',\n    'speed': 213.88888888889,\n    'task': {'id': 'ComboTask',\n     'params': {'tasks': [{'number': 1,\n        'auto': False,\n        'id': 'Orbit',\n        'enabled': True,\n        'params': {'altitude': 4572,\n         'pattern': 'Race-Track',\n         'speed': 213.88888888889,\n         'speedEdited': True}}]}},\n    'type': 'Turning Point',\n    'ETA': 808.3617495127,\n    'ETA_locked': False,\n    'y': 780691.81998789,\n    'x': -360000.02028934,\n    'name': '',\n    'formation_template': '',\n    'speed_locked': True},\n   {'alt': 4572,\n    'action': 'Turning Point',\n    'alt_type': 'BARO',\n    'speed': 213.88888888889,\n    'task': {'id': 'ComboTask', 'params': {'tasks': []}},\n    'type': 'Turning Point',\n    'ETA': 1103.6967736566,\n    'ETA_locked': False,\n    'y': 844617.69494942,\n    'x': -357031.32640567,\n    'name': '',\n    'formation_template': '',\n    'speed_locked': True}]},\n 'groupId': 107,\n 'hidden': False,\n 'units': [{'alt': 4572,\n   'hardpoint_racks': True,\n   'alt_type': 'BARO',\n   'livery_id': 'Standard USAF',\n   'skill': 'High',\n   'speed': 213.88888888889,\n   'type': 'KC-135',\n   'unitId': 266,\n   'psi': 0.043450895390969,\n   'y': 781483.4716902,\n   'x': -369301.92779148,\n   'name': 'tanker|2|1|0|KC-135 Pilot #1',\n   'payload': {'pylons': [],\n    'fuel': 81630,\n    'flare': 0,\n    'chaff': 0,\n    'gun': 100},\n   'heading': -0.043450895390969,\n   'callsign': {1: 1, 2: 1, 3: 1, 'name': 'Texaco11'},\n   'onboard_num': '962'}],\n 'y': 781483.4716902,\n 'x': -369301.92779148,\n 'name': 'tanker|2|1|0|KC-135',\n 'communication': True,\n 'start_time': 0,\n 'modulation': 0,\n 'frequency': 228}"
     },
     "execution_count": 19,
     "metadata": {},
     "output_type": "execute_result"
    }
   ],
   "source": [
    "mission['coalition']['blue']['country'][0]['plane']['group'][0]"
   ],
   "metadata": {
    "collapsed": false,
    "pycharm": {
     "name": "#%%\n"
    }
   }
  },
  {
   "cell_type": "code",
   "execution_count": 5,
   "outputs": [
    {
     "data": {
      "text/plain": "{'caucuses': <Projected CRS: +proj=tmerc +vunits=m +units=m +axis=neu +ellps=WG ...>\n Name: unknown\n Axis Info [cartesian]:\n - N[north]: Northing (metre)\n - E[east]: Easting (metre)\n - h[up]: Ellipsoidal height (metre)\n Area of Use:\n - undefined\n Coordinate Operation:\n - name: unknown\n - method: Transverse Mercator\n Datum: Unknown based on WGS84 ellipsoid\n - Ellipsoid: WGS 84\n - Prime Meridian: Greenwich,\n 'wgs84': <Geographic 2D CRS: EPSG:4326>\n Name: WGS 84\n Axis Info [ellipsoidal]:\n - Lat[north]: Geodetic latitude (degree)\n - Lon[east]: Geodetic longitude (degree)\n Area of Use:\n - name: World.\n - bounds: (-180.0, -90.0, 180.0, 90.0)\n Datum: World Geodetic System 1984 ensemble\n - Ellipsoid: WGS 84\n - Prime Meridian: Greenwich}"
     },
     "execution_count": 5,
     "metadata": {},
     "output_type": "execute_result"
    }
   ],
   "source": [
    "bronyflte.crs"
   ],
   "metadata": {
    "collapsed": false,
    "pycharm": {
     "name": "#%%\n"
    }
   }
  },
  {
   "cell_type": "code",
   "execution_count": 11,
   "outputs": [
    {
     "data": {
      "text/plain": "0"
     },
     "execution_count": 11,
     "metadata": {},
     "output_type": "execute_result"
    }
   ],
   "source": [
    "\n",
    "120 % 60"
   ],
   "metadata": {
    "collapsed": false,
    "pycharm": {
     "name": "#%%\n"
    }
   }
  },
  {
   "cell_type": "code",
   "execution_count": null,
   "outputs": [],
   "source": [],
   "metadata": {
    "collapsed": false,
    "pycharm": {
     "name": "#%%\n"
    }
   }
  }
 ],
 "metadata": {
  "kernelspec": {
   "display_name": "Python 3",
   "language": "python",
   "name": "python3"
  },
  "language_info": {
   "codemirror_mode": {
    "name": "ipython",
    "version": 2
   },
   "file_extension": ".py",
   "mimetype": "text/x-python",
   "name": "python",
   "nbconvert_exporter": "python",
   "pygments_lexer": "ipython2",
   "version": "2.7.6"
  }
 },
 "nbformat": 4,
 "nbformat_minor": 0
}