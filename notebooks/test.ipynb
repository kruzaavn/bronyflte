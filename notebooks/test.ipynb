{
 "cells": [
  {
   "cell_type": "code",
   "execution_count": 1,
   "metadata": {
    "collapsed": true
   },
   "outputs": [],
   "source": [
    "import luadata as lua\n",
    "import zipfile\n",
    "import bronyflte"
   ]
  },
  {
   "cell_type": "code",
   "execution_count": 2,
   "outputs": [],
   "source": [
    "q = bronyflte.Mission()"
   ],
   "metadata": {
    "collapsed": false,
    "pycharm": {
     "name": "#%%\n"
    }
   }
  },
  {
   "cell_type": "code",
   "execution_count": 10,
   "outputs": [],
   "source": [
    "q.load('./liberation_nextturn.miz')"
   ],
   "metadata": {
    "collapsed": false,
    "pycharm": {
     "name": "#%%\n"
    }
   }
  },
  {
   "cell_type": "code",
   "execution_count": 11,
   "outputs": [
    {
     "data": {
      "text/plain": "liberation_nextturn: 02/01/25 15:00:00"
     },
     "execution_count": 11,
     "metadata": {},
     "output_type": "execute_result"
    }
   ],
   "source": [
    "q"
   ],
   "metadata": {
    "collapsed": false,
    "pycharm": {
     "name": "#%%\n"
    }
   }
  },
  {
   "cell_type": "code",
   "execution_count": 12,
   "outputs": [
    {
     "data": {
      "text/plain": "'liberation_nextturn'"
     },
     "execution_count": 12,
     "metadata": {},
     "output_type": "execute_result"
    }
   ],
   "source": [
    "q.name"
   ],
   "metadata": {
    "collapsed": false,
    "pycharm": {
     "name": "#%%\n"
    }
   }
  },
  {
   "cell_type": "code",
   "execution_count": 13,
   "outputs": [
    {
     "data": {
      "text/plain": "'Caucasus'"
     },
     "execution_count": 13,
     "metadata": {},
     "output_type": "execute_result"
    }
   ],
   "source": [
    "\n",
    "q.theater"
   ],
   "metadata": {
    "collapsed": false,
    "pycharm": {
     "name": "#%%\n"
    }
   }
  },
  {
   "cell_type": "code",
   "execution_count": 14,
   "outputs": [
    {
     "data": {
      "text/plain": "[Ka-50: Gigolo|2|3|22|Ka-50|,\n KC-135: tanker|2|1|0|KC-135,\n KC130: tanker|2|2|0|KC130,\n E-3A: awacs|2|3|0|,\n F-16C_50: SAMURAI|2|1|29|F-16C_50|,\n A-10C_2: DRAGON|2|2|29|A-10C_2|,\n AV8BNA: Playboy 1|2|4|1005|AV8BNA|,\n AV8BNA: Playboy 2|2|5|1005|AV8BNA|,\n F-14A-135-GR: SNAKE-1|2|6|1004|F-14A-135-GR|,\n F-14B: SNAKE-2|2|7|1004|F-14B|,\n F-14B: SNAKE-3|2|8|1004|F-14B|,\n FA-18C_hornet: CHIPPY-1|2|9|1004|FA-18C_hornet|,\n FA-18C_hornet: CHIPPY-2|2|10|1004|FA-18C_hornet|,\n FA-18C_hornet: MTIGHTY SHRIKES-1|2|11|1004|FA-18C_hornet|,\n FA-18C_hornet: BONES-1|2|12|1004|FA-18C_hornet|,\n FA-18C_hornet: BONES-2|2|13|1004|FA-18C_hornet|,\n FA-18C_hornet: Knight|2|14|1004|FA-18C_hornet|,\n F-16C_50: SAMURAI-1|2|15|29|F-16C_50|,\n MQ-9 Reaper: JTAC2224,\n MQ-9 Reaper: JTAC100625]"
     },
     "execution_count": 14,
     "metadata": {},
     "output_type": "execute_result"
    }
   ],
   "source": [
    "a = q.flights\n",
    "a"
   ],
   "metadata": {
    "collapsed": false,
    "pycharm": {
     "name": "#%%\n"
    }
   }
  },
  {
   "cell_type": "code",
   "execution_count": 24,
   "outputs": [
    {
     "data": {
      "text/plain": "<cartopy.mpl.gridliner.Gridliner at 0x7ffe487f3430>"
     },
     "execution_count": 24,
     "metadata": {},
     "output_type": "execute_result"
    },
    {
     "data": {
      "text/plain": "<Figure size 432x288 with 1 Axes>",
      "image/png": "[encoded data removed]"
     },
     "metadata": {
      "needs_background": "light"
     },
     "output_type": "display_data"
    }
   ],
   "source": [
    "fig, ax = a[6].flight_plan.plot()\n",
    "#\n",
    "ax.gridlines()\n",
    "\n"
   ],
   "metadata": {
    "collapsed": false,
    "pycharm": {
     "name": "#%%\n"
    }
   }
  },
  {
   "cell_type": "code",
   "execution_count": null,
   "outputs": [],
   "source": [],
   "metadata": {
    "collapsed": false,
    "pycharm": {
     "name": "#%%\n"
    }
   }
  }
 ],
 "metadata": {
  "kernelspec": {
   "name": "python3",
   "language": "python",
   "display_name": "Python 3"
  },
  "language_info": {
   "codemirror_mode": {
    "name": "ipython",
    "version": 2
   },
   "file_extension": ".py",
   "mimetype": "text/x-python",
   "name": "python",
   "nbconvert_exporter": "python",
   "pygments_lexer": "ipython2",
   "version": "2.7.6"
  }
 },
 "nbformat": 4,
 "nbformat_minor": 0
}