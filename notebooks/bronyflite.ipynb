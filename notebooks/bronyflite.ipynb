{
 "cells": [
  {
   "cell_type": "code",
   "execution_count": 3,
   "metadata": {
    "collapsed": true
   },
   "outputs": [],
   "source": [
    "import pandas as pd\n",
    "import dcs"
   ]
  },
  {
   "cell_type": "code",
   "execution_count": 4,
   "outputs": [],
   "source": [
    "m = dcs.Mission()"
   ],
   "metadata": {
    "collapsed": false,
    "pycharm": {
     "name": "#%%\n"
    }
   }
  },
  {
   "cell_type": "code",
   "execution_count": 5,
   "outputs": [
    {
     "ename": "KeyError",
     "evalue": "'F-14A-135-GR'",
     "output_type": "error",
     "traceback": [
      "\u001B[1;31m---------------------------------------------------------------------------\u001B[0m",
      "\u001B[1;31mKeyError\u001B[0m                                  Traceback (most recent call last)",
      "\u001B[1;32m<ipython-input-5-36739eb97e86>\u001B[0m in \u001B[0;36m<module>\u001B[1;34m\u001B[0m\n\u001B[1;32m----> 1\u001B[1;33m \u001B[0mm\u001B[0m\u001B[1;33m.\u001B[0m\u001B[0mload_file\u001B[0m\u001B[1;33m(\u001B[0m\u001B[1;34m'liberation_nextturn.miz'\u001B[0m\u001B[1;33m)\u001B[0m\u001B[1;33m\u001B[0m\u001B[1;33m\u001B[0m\u001B[0m\n\u001B[0m",
      "\u001B[1;32m~\\Anaconda3\\envs\\bronyflte\\lib\\site-packages\\dcs\\mission.py\u001B[0m in \u001B[0;36mload_file\u001B[1;34m(self, filename, bypass_triggers)\u001B[0m\n\u001B[0;32m    373\u001B[0m             \u001B[1;32mif\u001B[0m \u001B[0mcol_name\u001B[0m \u001B[1;32min\u001B[0m \u001B[0mimp_mission\u001B[0m\u001B[1;33m[\u001B[0m\u001B[1;34m\"coalition\"\u001B[0m\u001B[1;33m]\u001B[0m\u001B[1;33m:\u001B[0m\u001B[1;33m\u001B[0m\u001B[1;33m\u001B[0m\u001B[0m\n\u001B[0;32m    374\u001B[0m                 \u001B[0mself\u001B[0m\u001B[1;33m.\u001B[0m\u001B[0mcoalition\u001B[0m\u001B[1;33m[\u001B[0m\u001B[0mcol_name\u001B[0m\u001B[1;33m]\u001B[0m \u001B[1;33m=\u001B[0m \u001B[0mCoalition\u001B[0m\u001B[1;33m(\u001B[0m\u001B[0mcol_name\u001B[0m\u001B[1;33m,\u001B[0m \u001B[0mimp_mission\u001B[0m\u001B[1;33m[\u001B[0m\u001B[1;34m\"coalition\"\u001B[0m\u001B[1;33m]\u001B[0m\u001B[1;33m[\u001B[0m\u001B[0mcol_name\u001B[0m\u001B[1;33m]\u001B[0m\u001B[1;33m[\u001B[0m\u001B[1;34m\"bullseye\"\u001B[0m\u001B[1;33m]\u001B[0m\u001B[1;33m)\u001B[0m\u001B[1;33m\u001B[0m\u001B[1;33m\u001B[0m\u001B[0m\n\u001B[1;32m--> 375\u001B[1;33m                 \u001B[0mself\u001B[0m\u001B[1;33m.\u001B[0m\u001B[0mcoalition\u001B[0m\u001B[1;33m[\u001B[0m\u001B[0mcol_name\u001B[0m\u001B[1;33m]\u001B[0m\u001B[1;33m.\u001B[0m\u001B[0mload_from_dict\u001B[0m\u001B[1;33m(\u001B[0m\u001B[0mself\u001B[0m\u001B[1;33m,\u001B[0m \u001B[0mimp_mission\u001B[0m\u001B[1;33m[\u001B[0m\u001B[1;34m\"coalition\"\u001B[0m\u001B[1;33m]\u001B[0m\u001B[1;33m[\u001B[0m\u001B[0mcol_name\u001B[0m\u001B[1;33m]\u001B[0m\u001B[1;33m)\u001B[0m\u001B[1;33m\u001B[0m\u001B[1;33m\u001B[0m\u001B[0m\n\u001B[0m\u001B[0;32m    376\u001B[0m \u001B[1;33m\u001B[0m\u001B[0m\n\u001B[0;32m    377\u001B[0m         \u001B[1;32mreturn\u001B[0m \u001B[1;32mTrue\u001B[0m\u001B[1;33m\u001B[0m\u001B[1;33m\u001B[0m\u001B[0m\n",
      "\u001B[1;32m~\\Anaconda3\\envs\\bronyflte\\lib\\site-packages\\dcs\\coalition.py\u001B[0m in \u001B[0;36mload_from_dict\u001B[1;34m(self, mission, d)\u001B[0m\n\u001B[0;32m    128\u001B[0m                             \u001B[0m_id\u001B[0m\u001B[1;33m=\u001B[0m\u001B[0mimp_unit\u001B[0m\u001B[1;33m[\u001B[0m\u001B[1;34m\"unitId\"\u001B[0m\u001B[1;33m]\u001B[0m\u001B[1;33m,\u001B[0m\u001B[1;33m\u001B[0m\u001B[1;33m\u001B[0m\u001B[0m\n\u001B[0;32m    129\u001B[0m                             \u001B[0mname\u001B[0m\u001B[1;33m=\u001B[0m\u001B[0mmission\u001B[0m\u001B[1;33m.\u001B[0m\u001B[0mtranslation\u001B[0m\u001B[1;33m.\u001B[0m\u001B[0mget_string\u001B[0m\u001B[1;33m(\u001B[0m\u001B[0mimp_unit\u001B[0m\u001B[1;33m[\u001B[0m\u001B[1;34m\"name\"\u001B[0m\u001B[1;33m]\u001B[0m\u001B[1;33m)\u001B[0m\u001B[1;33m,\u001B[0m\u001B[1;33m\u001B[0m\u001B[1;33m\u001B[0m\u001B[0m\n\u001B[1;32m--> 130\u001B[1;33m                             \u001B[0m_type\u001B[0m\u001B[1;33m=\u001B[0m\u001B[0mplanes\u001B[0m\u001B[1;33m.\u001B[0m\u001B[0mplane_map\u001B[0m\u001B[1;33m[\u001B[0m\u001B[0mimp_unit\u001B[0m\u001B[1;33m[\u001B[0m\u001B[1;34m\"type\"\u001B[0m\u001B[1;33m]\u001B[0m\u001B[1;33m]\u001B[0m\u001B[1;33m,\u001B[0m\u001B[1;33m\u001B[0m\u001B[1;33m\u001B[0m\u001B[0m\n\u001B[0m\u001B[0;32m    131\u001B[0m                             _country=_country)\n\u001B[0;32m    132\u001B[0m                         \u001B[0mplane\u001B[0m\u001B[1;33m.\u001B[0m\u001B[0mload_from_dict\u001B[0m\u001B[1;33m(\u001B[0m\u001B[0mimp_unit\u001B[0m\u001B[1;33m)\u001B[0m\u001B[1;33m\u001B[0m\u001B[1;33m\u001B[0m\u001B[0m\n",
      "\u001B[1;31mKeyError\u001B[0m: 'F-14A-135-GR'"
     ]
    }
   ],
   "source": [
    "m.load_file('liberation_nextturn.miz')"
   ],
   "metadata": {
    "collapsed": false,
    "pycharm": {
     "name": "#%%\n"
    }
   }
  },
  {
   "cell_type": "code",
   "execution_count": null,
   "outputs": [],
   "source": [],
   "metadata": {
    "collapsed": false,
    "pycharm": {
     "name": "#%%\n"
    }
   }
  }
 ],
 "metadata": {
  "kernelspec": {
   "display_name": "Python 3",
   "language": "python",
   "name": "python3"
  },
  "language_info": {
   "codemirror_mode": {
    "name": "ipython",
    "version": 2
   },
   "file_extension": ".py",
   "mimetype": "text/x-python",
   "name": "python",
   "nbconvert_exporter": "python",
   "pygments_lexer": "ipython2",
   "version": "2.7.6"
  }
 },
 "nbformat": 4,
 "nbformat_minor": 0
}